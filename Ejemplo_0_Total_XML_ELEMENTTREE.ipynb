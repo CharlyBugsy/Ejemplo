{
 "cells": [
  {
   "cell_type": "markdown",
   "metadata": {},
   "source": [
    "Si se quiere visitar todo el árbol se usa el método iter(), que crea un generador que itera sobre todos los nodos del árbol"
   ]
  },
  {
   "cell_type": "code",
   "execution_count": 5,
   "metadata": {},
   "outputs": [
    {
     "name": "stdout",
     "output_type": "stream",
     "text": [
      "<xml.etree.ElementTree.ElementTree object at 0x00000188472119D0>\n",
      "Datos --- \n",
      "\t --- {}\n",
      "Libro --- \n",
      "\t\t --- {'isbn': '0-596-00128-2', 'sexo': 'H'}\n",
      "titulo --- Python y XML --- {}\n",
      "fecha --- Diciembre 2001 --- {}\n",
      "autor ---  Pepito Perez --- {}\n",
      "Libro --- \n",
      "\t\t --- {'isbn': '0-596-15810-6'}\n",
      "titulo --- Programacion avanzada de XML --- {}\n",
      "fecha --- Octoubre 2010 --- {}\n",
      "autor --- Juan Garcia --- {}\n",
      "Libro --- \n",
      "\t\t --- {'isbn': '0-596-15806-8'}\n",
      "titulo --- Aprendiendo Java --- {}\n",
      "fecha --- Septiembre 2009 --- {}\n",
      "autor --- Juan Garcia --- {}\n",
      "Libro --- \n",
      "\t\t --- {'isbn': '0-596-15808-4'}\n",
      "titulo --- Python para moviles --- {}\n",
      "fecha --- Octubre 2009 --- {}\n",
      "autor --- Pepito Perez --- {}\n",
      "Libro --- \n",
      "\t\t --- {'isbn': '0-596-00797-3'}\n",
      "titulo --- R para estadistica --- {}\n",
      "fecha --- Marzo 2005 --- {}\n",
      "autor --- Juan --- {}\n",
      "autor --- Pepe --- {}\n",
      "autor --- Isabel --- {'sexo': 'M'}\n",
      "Libro ---  \n",
      "\t\t --- {'isbn': '0-596-10046-9'}\n",
      "titulo --- Python en 100 paginas --- {}\n",
      "fecha --- Julio 2006 --- {}\n",
      "autor --- Julia --- {}\n"
     ]
    }
   ],
   "source": [
    "from xml.etree import ElementTree\n",
    "f = open (\"datos.xml\", 'rt')\n",
    "arbol = ElementTree.parse(f)\n",
    "print (arbol)\n",
    "\n",
    "for nodo in arbol.iter():\n",
    "    print (nodo.tag, \"---\",nodo.text, \"---\" ,nodo.attrib)"
   ]
  },
  {
   "cell_type": "markdown",
   "metadata": {},
   "source": [
    "Iterar sobre los elementos del árbol es acceder a la raíz del árbol y desde ella iterar sobre los hijos"
   ]
  },
  {
   "cell_type": "code",
   "execution_count": 9,
   "metadata": {},
   "outputs": [
    {
     "name": "stdout",
     "output_type": "stream",
     "text": [
      "Libro ---> {'isbn': '0-596-00128-2'}\n",
      "Libro ---> {'isbn': '0-596-15810-6'}\n",
      "Libro ---> {'isbn': '0-596-15806-8'}\n",
      "Libro ---> {'isbn': '0-596-15808-4'}\n",
      "Libro ---> {'isbn': '0-596-00797-3'}\n",
      "Libro ---> {'isbn': '0-596-10046-9'}\n"
     ]
    }
   ],
   "source": [
    "from xml.etree import ElementTree as ET\n",
    "f = open (\"datos.xml\", 'rt')\n",
    "\n",
    "arbol = ET.parse(f)\n",
    "raiz = arbol.getroot()\n",
    "for hijo in raiz:\n",
    "    print (hijo.tag, \"--->\", hijo.attrib)"
   ]
  },
  {
   "cell_type": "code",
   "execution_count": 8,
   "metadata": {},
   "outputs": [
    {
     "name": "stdout",
     "output_type": "stream",
     "text": [
      "Libro 1 con isbn:  0-596-00128-2\n",
      "Libro 2 con isbn:  0-596-15810-6\n",
      "Libro 3 con isbn:  0-596-15806-8\n",
      "Libro 4 con isbn:  0-596-15808-4\n",
      "Libro 5 con isbn:  0-596-00797-3\n",
      "Libro 6 con isbn:  0-596-10046-9\n"
     ]
    }
   ],
   "source": [
    "from xml.etree import ElementTree\n",
    "f = open (\"datos.xml\", 'rt')\n",
    "arbol = ElementTree.parse(f)\n",
    "\n",
    "i=1\n",
    "for nodo in arbol.iter('Libro'):\n",
    "    isbn = nodo.attrib.get(\"isbn\")\n",
    "    print (nodo.tag, i, \"con isbn: \", isbn)\n",
    "    i+=1"
   ]
  },
  {
   "cell_type": "markdown",
   "metadata": {},
   "source": [
    "También es posible acceder a los elementos de forma indexada"
   ]
  },
  {
   "cell_type": "code",
   "execution_count": 10,
   "metadata": {},
   "outputs": [
    {
     "name": "stdout",
     "output_type": "stream",
     "text": [
      "Título:  Python y XML , fecha:  Diciembre 2001 , autor:   Pepito Perez\n",
      "Título:  Programacion avanzada de XML , fecha:  Octoubre 2010 , autor:  Juan Garcia\n",
      "Título:  Aprendiendo Java , fecha:  Septiembre 2009 , autor:  Juan Garcia\n",
      "Título:  Python para moviles , fecha:  Octubre 2009 , autor:  Pepito Perez\n",
      "Título:  R para estadistica , fecha:  Marzo 2005 , autor:  Juan , Pepe , Isabel\n",
      "Título:  Python en 100 paginas , fecha:  Julio 2006 , autor:  Julia\n"
     ]
    }
   ],
   "source": [
    "from xml.etree import ElementTree as ET\n",
    "f = open (\"datos.xml\", 'rt')\n",
    "\n",
    "arbol = ET.parse(f)\n",
    "raiz = arbol.getroot()\n",
    "\n",
    "print (\"Título: \",raiz[0][0].text, \", fecha: \",raiz[0][1].text, \", autor: \",raiz[0][2].text)\n",
    "print (\"Título: \",raiz[1][0].text, \", fecha: \",raiz[1][1].text, \", autor: \",raiz[1][2].text)\n",
    "print (\"Título: \",raiz[2][0].text, \", fecha: \",raiz[2][1].text, \", autor: \",raiz[2][2].text)\n",
    "print (\"Título: \",raiz[3][0].text, \", fecha: \",raiz[3][1].text, \", autor: \",raiz[3][2].text)\n",
    "print (\"Título: \",raiz[4][0].text, \", fecha: \",raiz[4][1].text, \", autor: \",raiz[4][2].text, \",\",raiz[4][3].text,\",\",raiz[4][4].text)\n",
    "print (\"Título: \",raiz[5][0].text, \", fecha: \",raiz[5][1].text, \", autor: \",raiz[5][2].text)"
   ]
  },
  {
   "cell_type": "markdown",
   "metadata": {},
   "source": [
    "Existe otro conjunto de métodos que permiten recorrer el árbol tomando como argumento una expresión XPath que caracteriza al elemento que se está buscando:\n",
    "\n",
    "    find(): recupera el primer subelemento del elemento actual encajando con la descripción dada. \n",
    "    findall(): recupera todos los subelementos del elemento actual encajando con la descripción dada. \n",
    "    iterfind(): recupera todos los elementos encajando con la descripción dada. \n",
    "    text: accede al contenido textual de un elemento. \n",
    "    get(atributo): accede al atributo dado del elemento. "
   ]
  },
  {
   "cell_type": "markdown",
   "metadata": {},
   "source": [
    "Se van a encontrar todos los títulos de los libros usando findall()"
   ]
  },
  {
   "cell_type": "code",
   "execution_count": 11,
   "metadata": {},
   "outputs": [
    {
     "name": "stdout",
     "output_type": "stream",
     "text": [
      "Título:  1 Python y XML\n",
      "Título:  2 Programacion avanzada de XML\n",
      "Título:  3 Aprendiendo Java\n",
      "Título:  4 Python para moviles\n",
      "Título:  5 R para estadistica\n",
      "Título:  6 Python en 100 paginas\n"
     ]
    }
   ],
   "source": [
    "from xml.etree import ElementTree as ET\n",
    "f = open (\"datos.xml\", 'rt')\n",
    "\n",
    "arbol = ET.parse(f)\n",
    "i=1\n",
    "\n",
    "for nodo in arbol.findall(\"./Libro/titulo\"):\n",
    "    print (\"Título: \",i,nodo.text)\n",
    "    i+=1\n",
    "    "
   ]
  },
  {
   "cell_type": "markdown",
   "metadata": {},
   "source": [
    "## Ejemplos de:\n",
    "\n",
    "https://programmerclick.com/article/67971534579/"
   ]
  },
  {
   "cell_type": "markdown",
   "metadata": {},
   "source": [
    "1.Element.findall (): solo busca elementos con etiquetas, que son hijos directos del elemento actual. \n",
    "\n",
    "2.Element.find (): busca el primer elemento secundario con una etiqueta específica.\n",
    "\n",
    "3.Element.text: accede al contenido de la etiqueta\n",
    "\n",
    "4.Element.get (): accede al valor del atributo de la etiqueta\n",
    "\n",
    "\n"
   ]
  },
  {
   "cell_type": "code",
   "execution_count": 12,
   "metadata": {},
   "outputs": [
    {
     "name": "stdout",
     "output_type": "stream",
     "text": [
      "Liechtenstein 1\n",
      "Singapore 4\n",
      "Panama 68\n"
     ]
    }
   ],
   "source": [
    "from xml.etree import ElementTree as ET\n",
    "f = open (\"country_data.xml\", 'rt')\n",
    "\n",
    "root = ET.parse(f)\n",
    "for country in root.findall('country'):\n",
    "    rank = country.find('rank').text\n",
    "    name = country.get('name')\n",
    "    print(name, rank)"
   ]
  },
  {
   "cell_type": "markdown",
   "metadata": {},
   "source": [
    "## Modifique el archivo XML\n"
   ]
  },
  {
   "cell_type": "markdown",
   "metadata": {},
   "source": [
    "ElementTree proporciona una manera fácil de crear documentos XML y escribir XML en archivos.\n",
    "\n",
    "    1.ElementTree.write (): crea un archivo xml o escribe datos en xml.\n",
    "    \n",
    "    2.Element.set (): agregue y modifique los atributos y valores de atributos de las etiquetas.\n",
    "    \n",
    "    3.Element.append (): agregar nodos secundarios\n",
    "\n",
    "\n",
    "Supongamos que queremos agregar uno a la clasificación de cada país y agregar los atributos actualizados al elemento de clasificación:"
   ]
  },
  {
   "cell_type": "code",
   "execution_count": 13,
   "metadata": {},
   "outputs": [],
   "source": [
    "from xml.etree import ElementTree as ET\n",
    "f = open (\"country_data.xml\", 'rt')\n",
    "\n",
    "root = ET.parse(f)\n",
    "for rank in root.iter('rank'):\n",
    "    new_rank = int(rank.text) + 1\n",
    "    rank.text = str(new_rank)\n",
    "    rank.set('updated', 'yes')\n",
    "\n",
    "root.write('output.xml')"
   ]
  },
  {
   "cell_type": "markdown",
   "metadata": {},
   "source": [
    "# Para eliminar las etiquetas. \n",
    "\n",
    "Usamos Element.remove () \n",
    "\n",
    "Supongamos que queremos eliminar todos los países que tienen una clasificación superior a 50:"
   ]
  },
  {
   "cell_type": "code",
   "execution_count": 14,
   "metadata": {},
   "outputs": [
    {
     "name": "stdout",
     "output_type": "stream",
     "text": [
      "Panama 68 Borrado...\n"
     ]
    },
    {
     "ename": "AttributeError",
     "evalue": "'ElementTree' object has no attribute 'remove'",
     "output_type": "error",
     "traceback": [
      "\u001b[1;31m---------------------------------------------------------------------------\u001b[0m",
      "\u001b[1;31mAttributeError\u001b[0m                            Traceback (most recent call last)",
      "\u001b[1;32m<ipython-input-14-6f18af026d86>\u001b[0m in \u001b[0;36m<module>\u001b[1;34m\u001b[0m\n\u001b[0;32m      8\u001b[0m         \u001b[0mname\u001b[0m \u001b[1;33m=\u001b[0m \u001b[0mcountry\u001b[0m\u001b[1;33m.\u001b[0m\u001b[0mget\u001b[0m\u001b[1;33m(\u001b[0m\u001b[1;34m'name'\u001b[0m\u001b[1;33m)\u001b[0m\u001b[1;33m\u001b[0m\u001b[1;33m\u001b[0m\u001b[0m\n\u001b[0;32m      9\u001b[0m         \u001b[0mprint\u001b[0m\u001b[1;33m(\u001b[0m\u001b[0mname\u001b[0m\u001b[1;33m,\u001b[0m \u001b[0mrank\u001b[0m\u001b[1;33m,\u001b[0m \u001b[1;34m\"Borrado...\"\u001b[0m\u001b[1;33m)\u001b[0m\u001b[1;33m\u001b[0m\u001b[1;33m\u001b[0m\u001b[0m\n\u001b[1;32m---> 10\u001b[1;33m         \u001b[0mtree\u001b[0m\u001b[1;33m.\u001b[0m\u001b[0mremove\u001b[0m\u001b[1;33m(\u001b[0m\u001b[0mcountry\u001b[0m\u001b[1;33m)\u001b[0m\u001b[1;33m\u001b[0m\u001b[1;33m\u001b[0m\u001b[0m\n\u001b[0m\u001b[0;32m     11\u001b[0m \u001b[1;33m\u001b[0m\u001b[0m\n\u001b[0;32m     12\u001b[0m \u001b[0mtree\u001b[0m\u001b[1;33m.\u001b[0m\u001b[0mwrite\u001b[0m\u001b[1;33m(\u001b[0m\u001b[1;34m'output2.xml'\u001b[0m\u001b[1;33m)\u001b[0m\u001b[1;33m\u001b[0m\u001b[1;33m\u001b[0m\u001b[0m\n",
      "\u001b[1;31mAttributeError\u001b[0m: 'ElementTree' object has no attribute 'remove'"
     ]
    }
   ],
   "source": [
    "from xml.etree import ElementTree as ET\n",
    "f = open (\"country_data.xml\", 'rt')\n",
    "\n",
    "tree = ET.parse(f)\n",
    "for country in tree.findall('country'):\n",
    "    rank = int(country.find('rank').text)\n",
    "    if rank > 50:\n",
    "        name = country.get('name')\n",
    "        print(name, rank, \"Borrado...\")\n",
    "        tree.remove(country)\n",
    "        \n",
    "tree.write('output2.xml')\n"
   ]
  },
  {
   "cell_type": "markdown",
   "metadata": {},
   "source": [
    "Esta API permite realizar un procesamiento basado en eventos, al estilo de SAX, usando el método iterparse(). iterparse() devuelve un iterable que produce tuplas que contienen el nombre del evento y el nodo que desencadena el evento.\n",
    "\n",
    "\n",
    "\n",
    "Genera eventos “start” en las aperturas de elemento y eventos “end” en los cierres de elemento. \n",
    "\n",
    "Además, los datos pueden ser extraídos del documento durante la fase de parseo."
   ]
  },
  {
   "cell_type": "code",
   "execution_count": 29,
   "metadata": {},
   "outputs": [
    {
     "name": "stdout",
     "output_type": "stream",
     "text": [
      "*****Libro*****\n",
      "isbn: 0-596-00128-2\n",
      "Título: Python y XML\n",
      "Fecha: Diciembre 2001\n",
      "Autor:  Pepito Perez (sexo= H )\n",
      "*****Libro*****\n",
      "isbn: 0-596-15810-6\n",
      "Título: Programacion avanzada de XML\n",
      "Fecha: Octoubre 2010\n",
      "Autor: Juan Garcia\n",
      "*****Libro*****\n",
      "isbn: 0-596-15806-8\n",
      "Título: Aprendiendo Java\n",
      "Fecha: Septiembre 2009\n",
      "Autor: Juan Garcia (sexo= H )\n",
      "*****Libro*****\n",
      "isbn: 0-596-15808-4\n",
      "Título: Python para moviles\n",
      "Fecha: Octubre 2009\n",
      "Autor: Pepito Perez\n",
      "*****Libro*****\n",
      "isbn: 0-596-00797-3\n",
      "Título: R para estadistica\n",
      "Fecha: Marzo 2005\n",
      "Autor: Juan (sexo= H )\n",
      "Autor: Pepe\n",
      "Autor: Isabel (sexo= M )\n",
      "*****Libro*****\n",
      "isbn: 0-596-10046-9\n",
      "Título: Python en 100 paginas\n",
      "Fecha: Julio 2006\n",
      "Autor: Julia\n"
     ]
    }
   ],
   "source": [
    "from xml.etree.ElementTree import iterparse\n",
    "\n",
    "for(event, element) in iterparse (\"datos.xml\",(\"start\",\"end\")):\n",
    "    if (event == \"start\"):\n",
    "        if ( element.tag==\"Libro\" ):\n",
    "            print(\"*****Libro*****\")\n",
    "            print(\"isbn:\",element.attrib[\"isbn\"])\n",
    "    if (event == \"end\"):\n",
    "        if ( element.tag==\"titulo\" ):\n",
    "            print(\"Título:\",element.text)\n",
    "        if ( element.tag==\"fecha\" ):    \n",
    "            print(\"Fecha:\",element.text)\n",
    "        if ( element.tag==\"autor\" ):    \n",
    "            autor= element.text\n",
    "            sexo = element.attrib.get(\"sexo\")\n",
    "            #\n",
    "            if sexo: \n",
    "                #sexo = element.attrib[\"sexo\"]\n",
    "                print(\"Autor:\",autor, \"(sexo=\",sexo,\")\")\n",
    "            else:\n",
    "                print(\"Autor:\",autor)\n",
    "            "
   ]
  },
  {
   "cell_type": "markdown",
   "metadata": {},
   "source": [
    "También es posible procesar cadenas que representen un documento XML usando el método fromstring, que toma como argumento la cadena que representa el documento XML"
   ]
  },
  {
   "cell_type": "code",
   "execution_count": 30,
   "metadata": {},
   "outputs": [
    {
     "name": "stdout",
     "output_type": "stream",
     "text": [
      "isbn:  0-596-00128-2\n",
      "Título:  Python y XML\n",
      "Fecha:  Diciembre 2001\n",
      "Autor:  Pepito Perez\n"
     ]
    }
   ],
   "source": [
    "import xml.etree.ElementTree as ET\n",
    "cadena = '''<Datos>\n",
    "                <Libro isbn=\"0-596-00128-2\">\n",
    "                    <titulo>Python y XML</titulo>\n",
    "                    <fecha>Diciembre 2001</fecha>\n",
    "                    <autor>Pepito Perez</autor>\n",
    "                </Libro>\n",
    "            </Datos>'''\n",
    "doc = ET.fromstring(cadena)\n",
    "lista = doc.findall(\"Libro\")\n",
    "for l in lista:\n",
    "    print (\"isbn: \",l.get(\"isbn\"))\n",
    "    print (\"Título: \",l.find(\"titulo\").text)\n",
    "    print (\"Fecha: \",l.find(\"fecha\").text)\n",
    "    print (\"Autor: \",l.find(\"autor\").text)"
   ]
  },
  {
   "cell_type": "code",
   "execution_count": 6,
   "metadata": {},
   "outputs": [
    {
     "name": "stdout",
     "output_type": "stream",
     "text": [
      "<?xml version=\"1.0\" encoding=\"UTF-8\" standalone=\"no\" ?>\n",
      "<Datos>\n",
      "\t<Libro isbn=\"0-596-00128-2\">\n",
      "\t\t<titulo>Python y XML</titulo>\n",
      "\t\t<fecha>Diciembre 2001</fecha>\n",
      "\t\t<autor sexo=\"H\"> Pepito Perez</autor>\n",
      "\t</Libro>\n",
      "\t<Libro isbn=\"0-596-15810-6\">\n",
      "\t\t<titulo>Programacion avanzada de XML</titulo> \n",
      "\t\t<fecha>Octoubre 2010</fecha>\n",
      "\t\t<autor>Juan Garcia</autor>\n",
      "\t</Libro>\n",
      "\t<Libro isbn=\"0-596-15806-8\">\n",
      "\t\t<titulo>Aprendiendo Java</titulo> \n",
      "\t\t<fecha>Septiembre 2009</fecha>\n",
      "\t\t<autor sexo=\"H\">Juan Garcia</autor>\n",
      "\t</Libro>\n",
      "\t<Libro isbn=\"0-596-15808-4\">\n",
      "\t\t<titulo>Python para moviles</titulo> \n",
      "\t\t<fecha>Octubre 2009</fecha>\n",
      "\t\t<autor>Pepito Perez</autor>\n",
      "\t</Libro>\n",
      "\t<Libro isbn=\"0-596-00797-3\">\n",
      "\t\t<titulo>R para estadistica</titulo> \n",
      "\t\t<fecha>Marzo 2005</fecha>\n",
      "\t\t<autor sexo=\"H\">Juan</autor>\n",
      "\t\t<autor>Pepe</autor>\n",
      "\t\t<autor sexo=\"M\">Isabel</autor>\n",
      "\t</Libro>\n",
      "\t<Libro isbn=\"0-596-10046-9\"> \n",
      "\t\t<titulo>Python en 100 paginas</titulo> \n",
      "\t\t<fecha>Julio 2006</fecha>\n",
      "\t\t<autor>Julia</autor>\n",
      "\t</Libro>\n",
      "</Datos>"
     ]
    }
   ],
   "source": [
    "def f_leeFichero(file):\n",
    "    with open(file, \"r\") as fichero:\n",
    "        for linea in fichero:\n",
    "            print(linea,end=\"\")\n",
    "\n",
    "fichero=\"datos.xml\"\n",
    "f_leeFichero(fichero)  "
   ]
  },
  {
   "cell_type": "code",
   "execution_count": 16,
   "metadata": {},
   "outputs": [
    {
     "ename": "ParseError",
     "evalue": "syntax error: line 1, column 0 (<string>)",
     "output_type": "error",
     "traceback": [
      "Traceback \u001b[1;36m(most recent call last)\u001b[0m:\n",
      "  File \u001b[0;32m\"C:\\ProgramData\\Anaconda3\\lib\\site-packages\\IPython\\core\\interactiveshell.py\"\u001b[0m, line \u001b[0;32m3437\u001b[0m, in \u001b[0;35mrun_code\u001b[0m\n    exec(code_obj, self.user_global_ns, self.user_ns)\n",
      "  File \u001b[0;32m\"<ipython-input-16-11875f2712ea>\"\u001b[0m, line \u001b[0;32m7\u001b[0m, in \u001b[0;35m<module>\u001b[0m\n    doc = ET.fromstring(data)\n",
      "\u001b[1;36m  File \u001b[1;32m\"C:\\ProgramData\\Anaconda3\\lib\\xml\\etree\\ElementTree.py\"\u001b[1;36m, line \u001b[1;32m1321\u001b[1;36m, in \u001b[1;35mXML\u001b[1;36m\u001b[0m\n\u001b[1;33m    return parser.close()\u001b[0m\n",
      "\u001b[1;36m  File \u001b[1;32m\"<string>\"\u001b[1;36m, line \u001b[1;32munknown\u001b[0m\n\u001b[1;31mParseError\u001b[0m\u001b[1;31m:\u001b[0m syntax error: line 1, column 0\n"
     ]
    }
   ],
   "source": [
    "import xml.etree.ElementTree as ET\n",
    "tree = ET.parse('datos.xml')\n",
    "#root = tree.getroot()\n",
    "\n",
    "data = 'datos.xml'\n",
    "\n",
    "doc = ET.fromstring(data)\n",
    "lista = doc.findall(\"Libro\")\n",
    "for l in lista:\n",
    "    print (\"isbn: \",l.get(\"isbn\"))\n",
    "    print (\"Título: \",l.find(\"titulo\").text)\n",
    "    print (\"Fecha: \",l.find(\"fecha\").text)\n",
    "    print (\"Autor: \",l.find(\"autor\").text)"
   ]
  },
  {
   "cell_type": "markdown",
   "metadata": {},
   "source": [
    "## Modificación de documento XML\n"
   ]
  },
  {
   "cell_type": "markdown",
   "metadata": {},
   "source": [
    "Se va a **añadir** un nuevo atributo que indica el orden.\n",
    "\n",
    "Se va a añadir un nuevo elemento que indica la editorial.\n",
    "\n",
    "Se va a añadir un nuevo atributo que indica si hay ejemplares."
   ]
  },
  {
   "cell_type": "code",
   "execution_count": 8,
   "metadata": {},
   "outputs": [],
   "source": [
    "from xml.etree import ElementTree as ET\n",
    "f = open (\"datos.xml\")\n",
    "arbol = ET.parse(f)\n",
    "i=1\n",
    "for libro in arbol.iter(\"Libro\"):\n",
    "    cadena = str(i)\n",
    "    libro.set(\"orden\",cadena)\n",
    "    libro.set(\"ejemplares\",\"si\")\n",
    "    #libro.append(\"\\t\")\n",
    "    editorial = ET.Element(\"editorial\")\n",
    "    editorial.text = \"Anaya\"\n",
    "    libro.append(editorial)\n",
    "    i+=1\n",
    "    \n",
    "arbol.write(\"datos2.xml\")   "
   ]
  },
  {
   "cell_type": "code",
   "execution_count": 4,
   "metadata": {},
   "outputs": [
    {
     "name": "stdout",
     "output_type": "stream",
     "text": [
      "<Datos>\n",
      "\t<Libro isbn=\"0-596-00128-2\" orden=\"1\" ejemplares=\"si\">\n",
      "\t\t<titulo>Python y XML</titulo>\n",
      "\t\t<fecha>Diciembre 2001</fecha>\n",
      "\t\t<autor sexo=\"H\"> Pepito Perez</autor>\n",
      "\t<editorial>Anaya</editorial></Libro>\n",
      "\t<Libro isbn=\"0-596-15810-6\" orden=\"2\" ejemplares=\"si\">\n",
      "\t\t<titulo>Programacion avanzada de XML</titulo> \n",
      "\t\t<fecha>Octoubre 2010</fecha>\n",
      "\t\t<autor>Juan Garcia</autor>\n",
      "\t<editorial>Anaya</editorial></Libro>\n",
      "\t<Libro isbn=\"0-596-15806-8\" orden=\"3\" ejemplares=\"si\">\n",
      "\t\t<titulo>Aprendiendo Java</titulo> \n",
      "\t\t<fecha>Septiembre 2009</fecha>\n",
      "\t\t<autor sexo=\"H\">Juan Garcia</autor>\n",
      "\t<editorial>Anaya</editorial></Libro>\n",
      "\t<Libro isbn=\"0-596-15808-4\" orden=\"4\" ejemplares=\"si\">\n",
      "\t\t<titulo>Python para moviles</titulo> \n",
      "\t\t<fecha>Octubre 2009</fecha>\n",
      "\t\t<autor>Pepito Perez</autor>\n",
      "\t<editorial>Anaya</editorial></Libro>\n",
      "\t<Libro isbn=\"0-596-00797-3\" orden=\"5\" ejemplares=\"si\">\n",
      "\t\t<titulo>R para estadistica</titulo> \n",
      "\t\t<fecha>Marzo 2005</fecha>\n",
      "\t\t<autor sexo=\"H\">Juan</autor>\n",
      "\t\t<autor>Pepe</autor>\n",
      "\t\t<autor sexo=\"M\">Isabel</autor>\n",
      "\t<editorial>Anaya</editorial></Libro>\n",
      "\t<Libro isbn=\"0-596-10046-9\" orden=\"6\" ejemplares=\"si\"> \n",
      "\t\t<titulo>Python en 100 paginas</titulo> \n",
      "\t\t<fecha>Julio 2006</fecha>\n",
      "\t\t<autor>Julia</autor>\n",
      "\t<editorial>Anaya</editorial></Libro>\n",
      "</Datos>"
     ]
    }
   ],
   "source": [
    "fichero=\"datos2.xml\"\n",
    "f_leeFichero(fichero)  "
   ]
  },
  {
   "cell_type": "markdown",
   "metadata": {},
   "source": [
    "También es posible **eliminar** elementos con el método Element.**remove()**. \n",
    "\n",
    "Tomando como entrada la salida del ejemplo anterior, se van a eliminar todos los elementos de tipo “Libro” que tengan un número de orden mayor que 3."
   ]
  },
  {
   "cell_type": "code",
   "execution_count": 9,
   "metadata": {},
   "outputs": [],
   "source": [
    "from xml.etree import ElementTree as ET\n",
    "f = open (\"datos2.xml\")\n",
    "\n",
    "arbol = ET.parse(f)\n",
    "raiz = arbol.getroot()\n",
    "for libro in raiz.iter(\"Libro\"):\n",
    "    orden = int( libro.get(\"orden\") )\n",
    "    if ( orden == 3 ):\n",
    "        raiz.remove(libro)\n",
    "arbol.write(\"datos3.xml\")   "
   ]
  },
  {
   "cell_type": "code",
   "execution_count": 12,
   "metadata": {},
   "outputs": [
    {
     "name": "stdout",
     "output_type": "stream",
     "text": [
      "<Datos>\n",
      "\t<Libro isbn=\"0-596-00128-2\" orden=\"1\" ejemplares=\"si\">\n",
      "\t\t<titulo>Python y XML</titulo>\n",
      "\t\t<fecha>Diciembre 2001</fecha>\n",
      "\t\t<autor sexo=\"H\"> Pepito Perez</autor>\n",
      "\t<editorial>Anaya</editorial></Libro>\n",
      "\t<Libro isbn=\"0-596-15810-6\" orden=\"2\" ejemplares=\"si\">\n",
      "\t\t<titulo>Programacion avanzada de XML</titulo> \n",
      "\t\t<fecha>Octoubre 2010</fecha>\n",
      "\t\t<autor>Juan Garcia</autor>\n",
      "\t<editorial>Anaya</editorial></Libro>\n",
      "\t<Libro isbn=\"0-596-15808-4\" orden=\"4\" ejemplares=\"si\">\n",
      "\t\t<titulo>Python para moviles</titulo> \n",
      "\t\t<fecha>Octubre 2009</fecha>\n",
      "\t\t<autor>Pepito Perez</autor>\n",
      "\t<editorial>Anaya</editorial></Libro>\n",
      "\t<Libro isbn=\"0-596-00797-3\" orden=\"5\" ejemplares=\"si\">\n",
      "\t\t<titulo>R para estadistica</titulo> \n",
      "\t\t<fecha>Marzo 2005</fecha>\n",
      "\t\t<autor sexo=\"H\">Juan</autor>\n",
      "\t\t<autor>Pepe</autor>\n",
      "\t\t<autor sexo=\"M\">Isabel</autor>\n",
      "\t<editorial>Anaya</editorial></Libro>\n",
      "\t<Libro isbn=\"0-596-10046-9\" orden=\"6\" ejemplares=\"si\"> \n",
      "\t\t<titulo>Python en 100 paginas</titulo> \n",
      "\t\t<fecha>Julio 2006</fecha>\n",
      "\t\t<autor>Julia</autor>\n",
      "\t<editorial>Anaya</editorial></Libro>\n",
      "</Datos>"
     ]
    }
   ],
   "source": [
    "f_leeFichero(\"datos3.xml\") "
   ]
  },
  {
   "cell_type": "markdown",
   "metadata": {},
   "source": [
    "También es posible la **creación de documentos XML desde cero**. \n",
    "\n",
    "Para ello se disponen de los siguientes métodos en la clase Element:\n",
    "\n",
    "    Element(): crea un elemento nuevo.\n",
    "    \n",
    "    subElement(): añade un nuevo elemento al padre.\n",
    "    \n",
    "    comment(): crea un nodo que serializa el contenido usando la sintaxis de XML.\n",
    "    "
   ]
  },
  {
   "cell_type": "code",
   "execution_count": 20,
   "metadata": {},
   "outputs": [
    {
     "name": "stdout",
     "output_type": "stream",
     "text": [
      "<?xml version=\"1.0\" ?>\n",
      "<Datos>\n",
      "\t<Libro>\n",
      "\t\t<titulo>XML y Python</titulo>\n",
      "\t\t<fecha>Marzo, 2019</fecha>\n",
      "\t\t<autor sexo=\"H\">Pepito López</autor>\n",
      "\t</Libro>\n",
      "</Datos>\n",
      "\n"
     ]
    }
   ],
   "source": [
    "from xml.etree.ElementTree import Element, SubElement, Comment\n",
    "from xml.etree import ElementTree\n",
    "from xml.dom import minidom\n",
    "\n",
    "def prettify(elem):\n",
    "    \"\"\"Return a pretty-printed XML string for the Element.\n",
    "    \"\"\"\n",
    "    rough_string = ElementTree.tostring(elem, 'utf-8')\n",
    "    reparsed = minidom.parseString(rough_string)\n",
    "    return reparsed.toprettyxml(indent=\"\\t\")\n",
    "\n",
    "raiz = Element(\"Datos\")\n",
    "Libro = SubElement(raiz,\"Libro\")\n",
    "\n",
    "Titulo = SubElement(Libro,\"titulo\")\n",
    "Titulo.text = \"XML y Python\"\n",
    "\n",
    "Fecha = SubElement(Libro,\"fecha\")\n",
    "Fecha.text = \"Marzo, 2019\"\n",
    "\n",
    "Autor = SubElement(Libro,\"autor\")\n",
    "Autor.text = \"Pepito López\"\n",
    "Autor.set(\"sexo\",\"H\")\n",
    "\n",
    "\n",
    "print (prettify(raiz))"
   ]
  },
  {
   "cell_type": "markdown",
   "metadata": {},
   "source": [
    "La función definida **prettify** se consigue que las etiquetas del documento XML estén indentadas. \n",
    "\n",
    "Si no se usa, se puede generar una cadena sin indentar "
   ]
  },
  {
   "cell_type": "code",
   "execution_count": 1,
   "metadata": {},
   "outputs": [
    {
     "name": "stdout",
     "output_type": "stream",
     "text": [
      "<?xml version=\"1.0\" ?>\n",
      "<Datos>\n",
      "\t<Libro>\n",
      "\t\t<titulo>XML y Python</titulo>\n",
      "\t\t<fecha>Marzo, 2019</fecha>\n",
      "\t\t<autor>Pepito López</autor>\n",
      "\t</Libro>\n",
      "</Datos>\n",
      "\n"
     ]
    }
   ],
   "source": [
    "from xml.etree.ElementTree import Element, SubElement, Comment, tostring\n",
    "from xml.etree import ElementTree\n",
    "from xml.dom import minidom\n",
    "\n",
    "def prettify(elem):\n",
    "    \"\"\"Return a pretty-printed XML string for the Element.\n",
    "    \"\"\"\n",
    "    rough_string = ElementTree.tostring(elem, 'utf-8')\n",
    "    reparsed = minidom.parseString(rough_string)\n",
    "    return reparsed.toprettyxml(indent=\"\\t\")\n",
    "\n",
    "raiz = Element(\"Datos\")\n",
    "Libro = SubElement(raiz,\"Libro\")\n",
    "\n",
    "Titulo = SubElement(Libro,\"titulo\")\n",
    "Titulo.text = \"XML y Python\"\n",
    "\n",
    "Fecha = SubElement(Libro,\"fecha\")\n",
    "Fecha.text = \"Marzo, 2019\"\n",
    "\n",
    "Autor = SubElement(Libro,\"autor\")\n",
    "Autor.text = \"Pepito López\"\n",
    "\n",
    "#print (tostring(raiz))\n",
    "print (prettify(raiz))"
   ]
  },
  {
   "cell_type": "markdown",
   "metadata": {},
   "source": [
    "Se va a modificar el código anterior para añadir atributos al elemento Libro.\n",
    "\n",
    "En concreto se va a **añadir el atributo** isbn, orden y ejemplares ("
   ]
  },
  {
   "cell_type": "code",
   "execution_count": 3,
   "metadata": {},
   "outputs": [
    {
     "name": "stdout",
     "output_type": "stream",
     "text": [
      "<?xml version=\"1.0\" ?>\n",
      "<Datos>\n",
      "\t<Libro orden=\"1\" ejemplares=\"si\" isbn=\"0-596-00128-2\">\n",
      "\t\t<titulo>XML y Python</titulo>\n",
      "\t\t<fecha>Marzo, 2019</fecha>\n",
      "\t\t<autor sexo=\"H\" estado_civil=\"soltero\">Pepito López</autor>\n",
      "\t</Libro>\n",
      "</Datos>\n",
      "\n"
     ]
    }
   ],
   "source": [
    "from xml.etree.ElementTree import Element, SubElement, Comment\n",
    "from xml.etree import ElementTree\n",
    "from xml.dom import minidom\n",
    "\n",
    "raiz = Element(\"Datos\")\n",
    "Libro = SubElement(raiz,\"Libro\",{\"orden\":\"1\",\"ejemplares\":\"si\",\"isbn\":\"0-596-00128-2\"})\n",
    "\n",
    "Titulo = SubElement(Libro,\"titulo\")\n",
    "Titulo.text = \"XML y Python\"\n",
    "\n",
    "Fecha = SubElement(Libro,\"fecha\")\n",
    "Fecha.text = \"Marzo, 2019\"\n",
    "\n",
    "Autor = SubElement(Libro,\"autor\",{\"sexo\":\"H\"})\n",
    "Autor.set(\"estado_civil\",\"soltero\")\n",
    "Autor.text = \"Pepito López\"\n",
    "\n",
    "\n",
    "print (prettify(raiz))"
   ]
  },
  {
   "cell_type": "markdown",
   "metadata": {},
   "source": [
    "Se pueden **añadir múltiples hijos** a un elemento mediante el método **extend()** que recibe como argumento algo que sea iterable, tal como una lista o bien otra instancia de Element.\n",
    "\n",
    "En el caso de una instancia de Element, los hijos del elemento dado se añaden como hijos del nuevo padre. Sin embargo, el padre actual no es añadido.\n",
    "\n",
    "Se va a reconstruir el ejemplo anterior, pero usando extend sobre una cadena dada"
   ]
  },
  {
   "cell_type": "code",
   "execution_count": 37,
   "metadata": {
    "scrolled": true
   },
   "outputs": [
    {
     "name": "stdout",
     "output_type": "stream",
     "text": [
      "<?xml version=\"1.0\" ?>\n",
      "<Datos version=\"1.0\">\n",
      "\t<Libro orden=\"1\" ejemplares=\"si\" isbn=\"0-596-00128-2\">\n",
      "\t\t<titulo>XML y Python</titulo>\n",
      "\t\t<fecha>Diciembre 2001</fecha>\n",
      "\t\t<autor>Pepito Perez</autor>\n",
      "\t</Libro>\n",
      "</Datos>\n",
      "\n"
     ]
    }
   ],
   "source": [
    "from xml.etree.ElementTree import Element,SubElement,XML\n",
    "from xml.etree import ElementTree\n",
    "from xml.dom import minidom\n",
    "\n",
    "raiz = Element(\"Datos\")\n",
    "raiz.set(\"version\",\"1.0\")\n",
    "Libro = SubElement(raiz,\"Libro\",{\"orden\":\"1\",\"ejemplares\":\"si\",\"isbn\":\"0-596-00128-2\"})\n",
    "hijos = XML('''<hijos><titulo>XML y Python</titulo><fecha>Diciembre 2001</fecha><autor>Pepito Perez</autor></hijos>''')\n",
    "\n",
    "Libro.extend(hijos)\n",
    "\n",
    "print (prettify(raiz))"
   ]
  },
  {
   "cell_type": "markdown",
   "metadata": {},
   "source": [
    "**Almacenará en un archivo**"
   ]
  },
  {
   "cell_type": "code",
   "execution_count": 15,
   "metadata": {},
   "outputs": [
    {
     "name": "stdout",
     "output_type": "stream",
     "text": [
      "-----------------\n",
      "<Datos version=\"1.0\"><Libro orden=\"1\" ejemplares=\"si\" isbn=\"0-596-00128-2\"><titulo>XML y Python</titulo><fecha>Diciembre 2001</fecha><autor>Pepito Perez</autor></Libro></Datos>"
     ]
    }
   ],
   "source": [
    "from xml.etree.ElementTree import Element,SubElement,ElementTree\n",
    "\n",
    "raiz = Element(\"Datos\")\n",
    "raiz.set(\"version\",\"1.0\")\n",
    "Libro = SubElement(raiz,\"Libro\",{\"orden\":\"1\",\"ejemplares\":\"si\",\"isbn\":\"0-596-00128-2\"})\n",
    "\n",
    "titulo = Element(\"titulo\")\n",
    "titulo.text = \"XML y Python\"\n",
    "\n",
    "fecha = Element(\"fecha\")\n",
    "fecha.text = \"Diciembre 2001\"\n",
    "\n",
    "autor = Element(\"autor\")\n",
    "autor.text = \"Pepito Perez\"\n",
    "\n",
    "hijos = [titulo, fecha, autor]\n",
    "#print (hijos[0])\n",
    "\n",
    "print ('-----------------')\n",
    "    \n",
    "Libro.extend(hijos)\n",
    "\n",
    "ElementTree(raiz).write(\"datos4.xml\")\n",
    "\n",
    "f_leeFichero(\"datos4.xml\") \n",
    "#print (prettify(raiz))"
   ]
  },
  {
   "cell_type": "markdown",
   "metadata": {},
   "source": [
    "El método **write()** de ElementTree tiene un segundo argumento que sirve para **controlar qué se hace con elementos que están vacíos**. \n",
    "\n",
    "Existen tres posibilidades según el valor de dicho argumento:\n",
    "\n",
    "    xml: genera un elemento vacío con una sola etiqueta.\n",
    "\n",
    "    html: genera un elemento vacío con dos etiquetas.\n",
    "\n",
    "    text: imprime solo elementos con contenido, el resto se los salta."
   ]
  },
  {
   "cell_type": "markdown",
   "metadata": {},
   "source": [
    "se va añadir un elemento vacío y se van a probar los tres argumentos"
   ]
  },
  {
   "cell_type": "code",
   "execution_count": 2,
   "metadata": {},
   "outputs": [
    {
     "name": "stdout",
     "output_type": "stream",
     "text": [
      "<?xml version=\"1.0\" ?>\n",
      "<Datos version=\"1.0\">\n",
      "\t<Libro orden=\"1\" ejemplares=\"si\" isbn=\"0-596-00128-2\">\n",
      "\t\t<titulo>XML y Python</titulo>\n",
      "\t\t<fecha>Diciembre 2001</fecha>\n",
      "\t\t<autor>Pepito Perez</autor>\n",
      "\t\t<vacio/>\n",
      "\t</Libro>\n",
      "</Datos>\n",
      "\n"
     ]
    }
   ],
   "source": [
    "from xml.etree.ElementTree import Element,SubElement,XML\n",
    "from xml.etree import ElementTree\n",
    "from xml.dom import minidom\n",
    "\n",
    "\n",
    "raiz = Element(\"Datos\")\n",
    "raiz.set(\"version\",\"1.0\")\n",
    "Libro = SubElement(raiz,\"Libro\",{\"orden\":\"1\",\"ejemplares\":\"si\",\"isbn\":\"0-596-00128-2\"})\n",
    "\n",
    "titulo = Element(\"titulo\")\n",
    "titulo.text = \"XML y Python\"\n",
    "\n",
    "fecha = Element(\"fecha\")\n",
    "fecha.text = \"Diciembre 2001\"\n",
    "\n",
    "autor = Element(\"autor\")\n",
    "autor.text = \"Pepito Perez\"\n",
    "\n",
    "hijos = [titulo, fecha, autor]\n",
    "Libro.extend(hijos)\n",
    "\n",
    "ElemVacio = SubElement(Libro,\"vacio\")\n",
    "\n",
    "print (prettify(raiz))"
   ]
  },
  {
   "cell_type": "markdown",
   "metadata": {},
   "source": [
    "## El programa muestra ##"
   ]
  },
  {
   "cell_type": "code",
   "execution_count": 1,
   "metadata": {},
   "outputs": [
    {
     "name": "stdout",
     "output_type": "stream",
     "text": [
      "xml\n",
      "<Datos version=\"1.0\"><Libro orden=\"1\" ejemplares=\"si\" isbn=\"0-596-00128-2\"><titulo>XML y Python</titulo><fecha>Diciembre 2001</fecha><autor>Pepito Perez</autor><vacio /></Libro></Datos>\n",
      "\n",
      "html\n",
      "<Datos version=\"1.0\"><Libro orden=\"1\" ejemplares=\"si\" isbn=\"0-596-00128-2\"><titulo>XML y Python</titulo><fecha>Diciembre 2001</fecha><autor>Pepito Perez</autor><vacio></vacio></Libro></Datos>\n",
      "\n",
      "text\n",
      "XML y PythonDiciembre 2001Pepito Perez\n",
      "\n"
     ]
    }
   ],
   "source": [
    "def prettify(elem):\n",
    "    \"\"\"Return a pretty-printed XML string for the Element.\n",
    "    \"\"\"\n",
    "    rough_string = ElementTree.tostring(elem, 'utf-8')\n",
    "    reparsed = minidom.parseString(rough_string)\n",
    "    return reparsed.toprettyxml(indent=\" \")\n",
    "\n",
    "import sys \n",
    "from xml.etree.ElementTree import Element,SubElement,ElementTree\n",
    "\n",
    "raiz = Element(\"Datos\")\n",
    "raiz.set(\"version\",\"1.0\")\n",
    "\n",
    "Libro = SubElement(raiz,\"Libro\",{\"orden\":\"1\",\"ejemplares\":\"si\",\"isbn\":\"0-596-00128-2\"})\n",
    "titulo = Element(\"titulo\")\n",
    "titulo.text = \"XML y Python\"\n",
    "\n",
    "fecha = Element(\"fecha\")\n",
    "fecha.text = \"Diciembre 2001\"\n",
    "\n",
    "autor = Element(\"autor\")\n",
    "autor.text = \"Pepito Perez\"\n",
    "\n",
    "hijos = [titulo, fecha, autor]\n",
    "Libro.extend(hijos)\n",
    "\n",
    "ElemVacio = SubElement(Libro,\"vacio\")\n",
    "\n",
    "for metodo in [\"xml\",\"html\",\"text\"]:\n",
    "    print (metodo)\n",
    "    sys.stdout.flush()\n",
    "    ElementTree(raiz).write(sys.stdout, method=metodo)\n",
    "    print(\"\\n\")"
   ]
  },
  {
   "cell_type": "markdown",
   "metadata": {},
   "source": [
    "Es importante entender que extend() no modifica ninguna relación padre-hijo existente con los nodos.\n",
    "\n",
    "Si los valores pasados a extend() ya existen en algún lugar del árbol, todavía estarán allí, y se repetirán en la salida."
   ]
  },
  {
   "cell_type": "code",
   "execution_count": 3,
   "metadata": {},
   "outputs": [
    {
     "name": "stdout",
     "output_type": "stream",
     "text": [
      "A:\n"
     ]
    },
    {
     "ename": "AttributeError",
     "evalue": "type object 'ElementTree' has no attribute 'tostring'",
     "output_type": "error",
     "traceback": [
      "\u001b[1;31m---------------------------------------------------------------------------\u001b[0m",
      "\u001b[1;31mAttributeError\u001b[0m                            Traceback (most recent call last)",
      "\u001b[1;32m<ipython-input-3-efe6eff32419>\u001b[0m in \u001b[0;36m<module>\u001b[1;34m\u001b[0m\n\u001b[0;32m     31\u001b[0m \u001b[1;33m\u001b[0m\u001b[0m\n\u001b[0;32m     32\u001b[0m \u001b[0mprint\u001b[0m\u001b[1;33m(\u001b[0m\u001b[1;34m'A:'\u001b[0m\u001b[1;33m)\u001b[0m\u001b[1;33m\u001b[0m\u001b[1;33m\u001b[0m\u001b[0m\n\u001b[1;32m---> 33\u001b[1;33m \u001b[0mprint\u001b[0m\u001b[1;33m(\u001b[0m\u001b[0mprettify\u001b[0m\u001b[1;33m(\u001b[0m\u001b[0mtop\u001b[0m\u001b[1;33m)\u001b[0m\u001b[1;33m)\u001b[0m\u001b[1;33m\u001b[0m\u001b[1;33m\u001b[0m\u001b[0m\n\u001b[0m\u001b[0;32m     34\u001b[0m \u001b[0mprint\u001b[0m\u001b[1;33m(\u001b[0m\u001b[1;33m)\u001b[0m\u001b[1;33m\u001b[0m\u001b[1;33m\u001b[0m\u001b[0m\n\u001b[0;32m     35\u001b[0m \u001b[1;33m\u001b[0m\u001b[0m\n",
      "\u001b[1;32m<ipython-input-3-efe6eff32419>\u001b[0m in \u001b[0;36mprettify\u001b[1;34m(elem)\u001b[0m\n\u001b[0;32m      7\u001b[0m     \"\"\"Return a pretty-printed XML string for the Element.\n\u001b[0;32m      8\u001b[0m     \"\"\"\n\u001b[1;32m----> 9\u001b[1;33m     \u001b[0mrough_string\u001b[0m \u001b[1;33m=\u001b[0m \u001b[0mElementTree\u001b[0m\u001b[1;33m.\u001b[0m\u001b[0mtostring\u001b[0m\u001b[1;33m(\u001b[0m\u001b[0melem\u001b[0m\u001b[1;33m,\u001b[0m \u001b[1;34m'utf-8'\u001b[0m\u001b[1;33m)\u001b[0m\u001b[1;33m\u001b[0m\u001b[1;33m\u001b[0m\u001b[0m\n\u001b[0m\u001b[0;32m     10\u001b[0m     \u001b[0mreparsed\u001b[0m \u001b[1;33m=\u001b[0m \u001b[0mminidom\u001b[0m\u001b[1;33m.\u001b[0m\u001b[0mparseString\u001b[0m\u001b[1;33m(\u001b[0m\u001b[0mrough_string\u001b[0m\u001b[1;33m)\u001b[0m\u001b[1;33m\u001b[0m\u001b[1;33m\u001b[0m\u001b[0m\n\u001b[0;32m     11\u001b[0m     \u001b[1;32mreturn\u001b[0m \u001b[0mreparsed\u001b[0m\u001b[1;33m.\u001b[0m\u001b[0mtoprettyxml\u001b[0m\u001b[1;33m(\u001b[0m\u001b[0mindent\u001b[0m\u001b[1;33m=\u001b[0m\u001b[1;34m\" \"\u001b[0m\u001b[1;33m)\u001b[0m\u001b[1;33m\u001b[0m\u001b[1;33m\u001b[0m\u001b[0m\n",
      "\u001b[1;31mAttributeError\u001b[0m: type object 'ElementTree' has no attribute 'tostring'"
     ]
    }
   ],
   "source": [
    "from xml.etree.ElementTree import (\n",
    "    Element, SubElement, tostring, XML,\n",
    ")\n",
    "#from ElementTree_pretty import prettify\n",
    "\n",
    "def prettify(elem):\n",
    "    \"\"\"Return a pretty-printed XML string for the Element.\n",
    "    \"\"\"\n",
    "    rough_string = ElementTree.tostring(elem, 'utf-8')\n",
    "    reparsed = minidom.parseString(rough_string)\n",
    "    return reparsed.toprettyxml(indent=\" \")\n",
    "\n",
    "top = Element('top')\n",
    "\n",
    "parent_a = SubElement(top, 'parent', id='A')\n",
    "parent_b = SubElement(top, 'parent', id='B')\n",
    "\n",
    "# Create children\n",
    "children = XML(\n",
    "    '<root><child num=\"0\" /><child num=\"1\" />'\n",
    "    '<child num=\"2\" /></root>'\n",
    ")\n",
    "\n",
    "# Set the id to the Python object id of the node\n",
    "# to make duplicates easier to spot.\n",
    "for c in children:\n",
    "    c.set('id', str(id(c)))\n",
    "\n",
    "# Add to first parent\n",
    "parent_a.extend(children)\n",
    "\n",
    "print('A:')\n",
    "print(prettify(top))\n",
    "print()\n",
    "\n",
    "# Copy nodes to second parent\n",
    "parent_b.extend(children)\n",
    "\n",
    "print('B:')\n",
    "print(prettify(top))\n",
    "print()"
   ]
  },
  {
   "cell_type": "code",
   "execution_count": null,
   "metadata": {},
   "outputs": [],
   "source": []
  }
 ],
 "metadata": {
  "kernelspec": {
   "display_name": "Python 3",
   "language": "python",
   "name": "python3"
  },
  "language_info": {
   "codemirror_mode": {
    "name": "ipython",
    "version": 3
   },
   "file_extension": ".py",
   "mimetype": "text/x-python",
   "name": "python",
   "nbconvert_exporter": "python",
   "pygments_lexer": "ipython3",
   "version": "3.8.8"
  }
 },
 "nbformat": 4,
 "nbformat_minor": 2
}
